{
 "cells": [
  {
   "cell_type": "code",
   "execution_count": null,
   "outputs": [],
   "source": [
    "!git clone https://github.com/mhamedouadghiri/tflite-recommendation-ml.git\n",
    "%cd tflite-recommendation-ml"
   ],
   "metadata": {
    "collapsed": false,
    "pycharm": {
     "name": "#%%\n"
    }
   }
  },
  {
   "cell_type": "code",
   "execution_count": null,
   "metadata": {
    "collapsed": true
   },
   "outputs": [],
   "source": [
    "!python -m data.example_generation_movielens \\\n",
    "  --data_dir=data/raw \\\n",
    "  --output_dir=data/examples \\\n",
    "  --build_movie_vocab=True \\\n",
    "  --min_timeline_length=3 \\\n",
    "  --max_context_length=10"
   ]
  },
  {
   "cell_type": "code",
   "execution_count": null,
   "outputs": [],
   "source": [
    "!python -m model.recommendation_model_launcher_keras \\\n",
    "  --run_mode \"train_and_eval\" \\\n",
    "  --encoder_type \"cnn\" \\\n",
    "  --training_data_filepattern \"data/examples/train_movielens_1m.tfrecord\" \\\n",
    "  --testing_data_filepattern \"data/examples/test_movielens_1m.tfrecord\" \\\n",
    "  --model_dir \"model/model_dir\" \\\n",
    "  --params_path \"model/sample_config.json\"\\\n",
    "  --batch_size 16 \\\n",
    "  --learning_rate 0.01 \\\n",
    "  --steps_per_epoch 1000 \\\n",
    "  --num_epochs 10000 \\\n",
    "  --num_eval_steps 1000 \\\n",
    "  --gradient_clip_norm 1.0 \\\n",
    "  --max_history_length 10"
   ],
   "metadata": {
    "collapsed": false,
    "pycharm": {
     "name": "#%%\n"
    }
   }
  },
  {
   "cell_type": "code",
   "execution_count": null,
   "outputs": [],
   "source": [
    "!python -m model.recommendation_model_launcher_keras \\\n",
    "  --run_mode \"export\" \\\n",
    "  --encoder_type \"cnn\" \\\n",
    "  --params_path \"model/sample_config.json\"\\\n",
    "  --model_dir \"model/model_dir\" \\\n",
    "  --checkpoint_path \"model/model_dir/ckpt-1000\" \\\n",
    "  --num_predictions 100"
   ],
   "metadata": {
    "collapsed": false,
    "pycharm": {
     "name": "#%%\n"
    }
   }
  }
 ],
 "metadata": {
  "kernelspec": {
   "display_name": "Python 3",
   "language": "python",
   "name": "python3"
  },
  "language_info": {
   "codemirror_mode": {
    "name": "ipython",
    "version": 2
   },
   "file_extension": ".py",
   "mimetype": "text/x-python",
   "name": "python",
   "nbconvert_exporter": "python",
   "pygments_lexer": "ipython2",
   "version": "2.7.6"
  }
 },
 "nbformat": 4,
 "nbformat_minor": 0
}